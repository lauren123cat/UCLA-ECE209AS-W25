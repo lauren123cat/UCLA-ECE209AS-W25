{
 "cells": [
  {
   "cell_type": "markdown",
   "metadata": {
    "id": "vvHUkPgdvCja"
   },
   "source": [
    "\n",
    "## Step 1 - Convert hex to base64\n",
    "\n",
    "> The string:\n",
    "> ```\n",
    "> 49276d206b696c6c696e6720796f757220627261696e206c696b65206120706f69736f6e6f7573206d757368726f6f6d\n",
    "> ```\n",
    "> Should produce:\n",
    "> ```\n",
    "> SSdtIGtpbGxpbmcgeW91ciBicmFpbiBsaWtlIGEgcG9pc29ub3VzIG11c2hyb29t\n",
    "> ```\n",
    "> So go ahead and make that happen. You'll need to use this code for the rest of the exercises.\n",
    ">\n",
    "> ### Comment\n",
    ">\n",
    "> Always operate on raw bytes, never on encoded strings. Only use hex and base64 for pretty-printing."
   ]
  },
  {
   "cell_type": "code",
   "execution_count": null,
   "metadata": {
    "id": "sFs0TisVvCje"
   },
   "outputs": [
    {
     "name": "stdout",
     "output_type": "stream",
     "text": [
      "SSdtIGtpbGxpbmcgeW91ciBicmFpbiBsaWtlIGEgcG9pc29ub3VzIG11c2hyb29t\n"
     ]
    }
   ],
   "source": [
    "# your code here ... (put some comments to explain what you did)\n",
    "\n",
    "# converts hex string -> base64 string\n",
    "def convert(hex):\n",
    "    raw_bytes = bytes.fromhex(hex)\n",
    "    base64 = \"\"\n",
    "    base64_alphabet = \"ABCDEFGHIJKLMNOPQRSTUVWXYZabcdefghijklmnopqrstuvwxyz0123456789+/\"\n",
    "\n",
    "    i = 0\n",
    "    while i < len(raw_bytes):\n",
    "        block = raw_bytes[i:i + 3]\n",
    "        i += 3\n",
    "        \n",
    "        if len(block) == 3: # 24 bits\n",
    "            bits = (block[0] << 16) | (block[1] << 8) | block[2]\n",
    "            indices = [\n",
    "                (bits >> 18) & 0x3F,\n",
    "                (bits >> 12) & 0x3F,\n",
    "                (bits >> 6) & 0x3F,\n",
    "                bits & 0x3F,\n",
    "            ]\n",
    "            for index in indices:\n",
    "                base64 += base64_alphabet[index]\n",
    "\n",
    "        elif len(block) == 2: # 16 bits\n",
    "            bits = (block[0] << 16) | (block[1] << 8)\n",
    "            indices = [\n",
    "                (bits >> 18) & 0x3F,\n",
    "                (bits >> 12) & 0x3F,\n",
    "                (bits >> 6) & 0x3F,\n",
    "            ]\n",
    "            for index in indices:\n",
    "                base64 += base64_alphabet[index]\n",
    "            base64 += \"=\"\n",
    "\n",
    "        elif len(block) == 1: # 8 bits\n",
    "            bits = block[0] << 16\n",
    "            indices = [\n",
    "                (bits >> 18) & 0x3F,\n",
    "                (bits >> 12) & 0x3F,\n",
    "            ]\n",
    "            # Append two characters then two '=' paddings.\n",
    "            for index in indices:\n",
    "                base64 += base64_alphabet[index]\n",
    "            base64 += \"==\"\n",
    "    return base64\n",
    "\n",
    "res = convert(\"49276d206b696c6c696e6720796f757220627261696e206c696b65206120706f69736f6e6f7573206d757368726f6f6d\")\n",
    "print(res)\n",
    "\n"
   ]
  },
  {
   "cell_type": "markdown",
   "metadata": {
    "id": "h2Om5KtAvCjg"
   },
   "source": [
    "## Step 2 - Fixed XOR\n",
    "\n",
    "> Write a function that takes two equal-length buffers and produces their XOR combination.\n",
    ">\n",
    "> If your function works properly, then when you feed it the string:\n",
    "> ```\n",
    "> 1c0111001f010100061a024b53535009181c\n",
    "> ```\n",
    "> ... after hex decoding, and when XOR'd (bitwise) against:\n",
    "> ```\n",
    "> 686974207468652062756c6c277320657965\n",
    "> ```\n",
    "> ... should produce:\n",
    "> ```\n",
    "> 746865206b696420646f6e277420706c6179\n",
    "> ```"
   ]
  },
  {
   "cell_type": "code",
   "execution_count": 4,
   "metadata": {
    "id": "2RrYCku-vCjg"
   },
   "outputs": [
    {
     "name": "stdout",
     "output_type": "stream",
     "text": [
      "746865206b696420646f6e277420706c6179\n"
     ]
    }
   ],
   "source": [
    "# your code with comments ... (feel free to add as many as helper functions as you need!)\n",
    "\n",
    "def XOR(hex1, hex2):\n",
    "    bytes1 = bytes.fromhex(hex1)\n",
    "    bytes2 = bytes.fromhex(hex2)\n",
    "\n",
    "    res = bytearray()\n",
    "\n",
    "    for b1, b2 in zip(bytes1, bytes2):\n",
    "        res.append(b1 ^ b2)\n",
    "    \n",
    "    return res.hex()\n",
    "\n",
    "hex1 = \"1c0111001f010100061a024b53535009181c\"\n",
    "hex2 = \"686974207468652062756c6c277320657965\"\n",
    "res = XOR(hex1, hex2)\n",
    "print(res)"
   ]
  },
  {
   "cell_type": "markdown",
   "metadata": {
    "id": "ith96_nivCjh"
   },
   "source": [
    "## Step 3 - Single-byte XOR cipher\n",
    "\n",
    "> The hex encoded string:\n",
    "> ```\n",
    "> 1b37373331363f78151b7f2b783431333d78397828372d363c78373e783a393b3736\n",
    "> ```\n",
    "> ... has been XOR'd against a single character. Find the key (which is one byte) and decrypt the message. The message is a meaningful sentence in English!\n",
    ">\n",
    "> You should write a code to find the key and decrypt the message. Don't do it manually!\n",
    ">\n",
    "> ### Comment\n",
    "> There are several mini steps to achieve this! First, you need a strategy for searching in the key space. Second, you need a test/scoring mechanism to check whether the decrypted message is  meaningful or not (i.e., detecting garbage vs. the correct output). You can read more about *\"Caesar\"* cipher to get some ideas and more background!"
   ]
  },
  {
   "cell_type": "markdown",
   "metadata": {
    "id": "cOZGQsvOvCjh"
   },
   "source": [
    "#### Description\n",
    "*A brief description of your approach. Don't just put the code. First explain what you did and WHY you did it!*\n",
    "\n",
    "<p> I'm given a hex string (encrypted) which represents some English text. This question is asking me to find the key that's 1 byte and turn the hex into English using that key. I'm using brute force to find all possible keys and keeping track of a \"score\" which represents how likely something is English. The reason why I think brute search is a decent way is because -- for this problem -- the method doesn't require too much computation (the runtime will be good) since there's only 256 keys (it's 1 byte). <br>\n",
    "...\n",
    "</p>"
   ]
  },
  {
   "cell_type": "code",
   "execution_count": 13,
   "metadata": {
    "id": "AVj7s8zWvCji"
   },
   "outputs": [
    {
     "ename": "UnicodeDecodeError",
     "evalue": "'ascii' codec can't decode byte 0x9b in position 0: ordinal not in range(128)",
     "output_type": "error",
     "traceback": [
      "\u001b[0;31m---------------------------------------------------------------------------\u001b[0m",
      "\u001b[0;31mUnicodeDecodeError\u001b[0m                        Traceback (most recent call last)",
      "Cell \u001b[0;32mIn[13], line 29\u001b[0m\n\u001b[1;32m     27\u001b[0m \u001b[38;5;28;01mfor\u001b[39;00m key \u001b[38;5;129;01min\u001b[39;00m \u001b[38;5;28mrange\u001b[39m(\u001b[38;5;241m256\u001b[39m):\n\u001b[1;32m     28\u001b[0m     candidate_bytes \u001b[38;5;241m=\u001b[39m \u001b[38;5;28mbytes\u001b[39m([b \u001b[38;5;241m^\u001b[39m key \u001b[38;5;28;01mfor\u001b[39;00m b \u001b[38;5;129;01min\u001b[39;00m raw_bytes])\n\u001b[0;32m---> 29\u001b[0m     candidate_text \u001b[38;5;241m=\u001b[39m \u001b[43mcandidate_bytes\u001b[49m\u001b[38;5;241;43m.\u001b[39;49m\u001b[43mdecode\u001b[49m\u001b[43m(\u001b[49m\u001b[38;5;124;43m'\u001b[39;49m\u001b[38;5;124;43mascii\u001b[39;49m\u001b[38;5;124;43m'\u001b[39;49m\u001b[43m)\u001b[49m\n\u001b[1;32m     30\u001b[0m     candidate_score \u001b[38;5;241m=\u001b[39m score(candidate_text)\n\u001b[1;32m     31\u001b[0m     \u001b[38;5;28;01mif\u001b[39;00m candidate_score \u001b[38;5;241m>\u001b[39m best_score:\n",
      "\u001b[0;31mUnicodeDecodeError\u001b[0m: 'ascii' codec can't decode byte 0x9b in position 0: ordinal not in range(128)"
     ]
    }
   ],
   "source": [
    "# your code with comment\n",
    "import string\n",
    "\n",
    "def score(text):\n",
    "    score = 0\n",
    "    common_letters = \"ETAOIN SHRDLU\"\n",
    "    for char in text.upper():\n",
    "        if char in common_letters:\n",
    "            score += 2  \n",
    "        elif char in string.ascii_uppercase:\n",
    "            score += 1  \n",
    "        elif char == \" \":\n",
    "            score += 2 \n",
    "        elif char in string.printable:\n",
    "            score += 0.5  \n",
    "        else:\n",
    "            score -= 5 \n",
    "    return score\n",
    "\n",
    "hex = \"1b37373331363f78151b7f2b783431333d78397828372d363c78373e783a393b3736\"\n",
    "raw_bytes = bytes.fromhex(hex)\n",
    "\n",
    "best_score = float(\"-inf\")\n",
    "best_candidate = None\n",
    "best_key = None\n",
    "\n",
    "for key in range(256):\n",
    "    candidate_bytes = bytes([b ^ key for b in raw_bytes])\n",
    "    candidate_text = candidate_bytes.decode('ascii')\n",
    "    candidate_score = score(candidate_text)\n",
    "    if candidate_score > best_score:\n",
    "        best_score = candidate_score\n",
    "        best_candidate = candidate_text\n",
    "        best_key = key\n",
    "\n",
    "print(best_key)\n",
    "print(chr(best_key))\n",
    "print(\"english: \")\n",
    "print(best_candidate)"
   ]
  },
  {
   "cell_type": "code",
   "execution_count": 9,
   "metadata": {},
   "outputs": [
    {
     "ename": "TypeError",
     "evalue": "'bytes' object is not callable",
     "output_type": "error",
     "traceback": [
      "\u001b[0;31m---------------------------------------------------------------------------\u001b[0m",
      "\u001b[0;31mTypeError\u001b[0m                                 Traceback (most recent call last)",
      "Cell \u001b[0;32mIn[9], line 37\u001b[0m\n\u001b[1;32m     34\u001b[0m \u001b[38;5;66;03m# Try every possible single-byte key (0-255)\u001b[39;00m\n\u001b[1;32m     35\u001b[0m \u001b[38;5;28;01mfor\u001b[39;00m key \u001b[38;5;129;01min\u001b[39;00m \u001b[38;5;28mrange\u001b[39m(\u001b[38;5;241m256\u001b[39m):\n\u001b[1;32m     36\u001b[0m     \u001b[38;5;66;03m# XOR each byte of raw_bytes with the key.\u001b[39;00m\n\u001b[0;32m---> 37\u001b[0m     candidate_bytes \u001b[38;5;241m=\u001b[39m \u001b[38;5;28;43mbytes\u001b[39;49m\u001b[43m(\u001b[49m\u001b[43m[\u001b[49m\u001b[43mb\u001b[49m\u001b[43m \u001b[49m\u001b[38;5;241;43m^\u001b[39;49m\u001b[43m \u001b[49m\u001b[43mkey\u001b[49m\u001b[43m \u001b[49m\u001b[38;5;28;43;01mfor\u001b[39;49;00m\u001b[43m \u001b[49m\u001b[43mb\u001b[49m\u001b[43m \u001b[49m\u001b[38;5;129;43;01min\u001b[39;49;00m\u001b[43m \u001b[49m\u001b[43mraw_bytes\u001b[49m\u001b[43m]\u001b[49m\u001b[43m)\u001b[49m\n\u001b[1;32m     39\u001b[0m     \u001b[38;5;66;03m# Try to decode the candidate bytes into an ASCII string.\u001b[39;00m\n\u001b[1;32m     40\u001b[0m     \u001b[38;5;28;01mtry\u001b[39;00m:\n",
      "\u001b[0;31mTypeError\u001b[0m: 'bytes' object is not callable"
     ]
    }
   ],
   "source": [
    "import string\n",
    "\n",
    "def score(text):\n",
    "    \"\"\"\n",
    "    Scores a piece of text based on how likely it is to be English.\n",
    "    This scoring function rewards common English letters and spaces,\n",
    "    while penalizing non-printable characters.\n",
    "    \"\"\"\n",
    "    score_val = 0\n",
    "    common_letters = \"ETAOIN SHRDLU\"\n",
    "    for char in text.upper():\n",
    "        if char in common_letters:\n",
    "            score_val += 2  \n",
    "        elif char in string.ascii_uppercase:\n",
    "            score_val += 1  \n",
    "        elif char == \" \":\n",
    "            score_val += 2 \n",
    "        elif char in string.printable:\n",
    "            score_val += 0.5  \n",
    "        else:\n",
    "            score_val -= 5 \n",
    "    return score_val\n",
    "\n",
    "# The given hex string.\n",
    "hex_string = \"1b37373331363f78151b7f2b783431333d78397828372d363c78373e783a393b3736\"\n",
    "\n",
    "# Convert the hex string into raw bytes.\n",
    "raw_bytes = bytes.fromhex(hex_string)\n",
    "\n",
    "best_score = float(\"-inf\")\n",
    "best_candidate = None\n",
    "best_key = None\n",
    "\n",
    "# Try every possible single-byte key (0-255)\n",
    "for key in range(256):\n",
    "    # XOR each byte of raw_bytes with the key.\n",
    "    candidate_bytes = bytes([b ^ key for b in raw_bytes])\n",
    "    \n",
    "    # Try to decode the candidate bytes into an ASCII string.\n",
    "    try:\n",
    "        candidate_text = candidate_bytes.decode('ascii')\n",
    "    except UnicodeDecodeError:\n",
    "        continue  # If decoding fails, skip this candidate.\n",
    "    \n",
    "    # Score the candidate text.\n",
    "    candidate_score = score(candidate_text)\n",
    "    \n",
    "    # Keep track of the candidate with the highest score.\n",
    "    if candidate_score > best_score:\n",
    "        best_score = candidate_score\n",
    "        best_candidate = candidate_text\n",
    "        best_key = key\n",
    "\n",
    "print(\"Best key (as integer):\", best_key)\n",
    "print(\"Best key (as character):\", chr(best_key))\n",
    "print(\"Decrypted message:\")\n",
    "print(best_candidate)\n"
   ]
  },
  {
   "cell_type": "code",
   "execution_count": 10,
   "metadata": {},
   "outputs": [
    {
     "name": "stdout",
     "output_type": "stream",
     "text": [
      "b'\\x1b77316?x\\x15\\x1b\\x7f+x413=x9x(7-6<x7>x:9;76'\n"
     ]
    }
   ],
   "source": [
    "print(bytes)\n"
   ]
  },
  {
   "cell_type": "code",
   "execution_count": null,
   "metadata": {},
   "outputs": [],
   "source": []
  },
  {
   "cell_type": "markdown",
   "metadata": {
    "id": "WKG-XIGmvCji"
   },
   "source": [
    "## Step 4 - Detect single-character XOR\n",
    "\n",
    "> One of the 60-character strings in [this file](data/04.txt) has been encrypted by single-character XOR (each line is one string).\n",
    ">\n",
    "> Find it.\n",
    ">\n",
    "> ### Comment\n",
    "> You should use your code in Step 3 to test each line. One line should output a meaningful message. Remeber that you don't know the key either but you can find it for each line (if any)."
   ]
  },
  {
   "cell_type": "markdown",
   "metadata": {
    "id": "iQzBeSFZvCjj"
   },
   "source": [
    "#### Description\n",
    "*A brief description of your approach. Don't just put the code. First explain what you did and WHY you did it!*\n",
    "\n",
    "<p> (your description)<br>\n",
    "...\n",
    "</p>"
   ]
  },
  {
   "cell_type": "code",
   "execution_count": null,
   "metadata": {
    "id": "WFBSPAbavCjj"
   },
   "outputs": [],
   "source": [
    "# your code with comment"
   ]
  },
  {
   "cell_type": "markdown",
   "metadata": {
    "id": "dniEEoPxvCjj"
   },
   "source": [
    "## Step 5 - Implement repeating-key XOR\n",
    "\n",
    "> Here is the opening stanza of an important work of the English language:\n",
    "> ```\n",
    "> Burning 'em, if you ain't quick and nimble\n",
    "> I go crazy when I hear a cymbal\n",
    "> ```\n",
    "> Encrypt it, under the key \"ICE\", using repeating-key XOR.\n",
    ">\n",
    "> In repeating-key XOR, you'll sequentially apply each byte of the key; the first byte of plaintext will be XOR'd against I, the next C, the next E, then I again for the 4th byte, and so on.\n",
    ">\n",
    "> It should come out to:\n",
    "> ```\n",
    "> 0b3637272a2b2e63622c2e69692a23693a2a3c6324202d623d63343c2a26226324272765272\n",
    "> a282b2f20430a652e2c652a3124333a653e2b2027630c692b20283165286326302e27282f\n",
    "> ```\n"
   ]
  },
  {
   "cell_type": "code",
   "execution_count": null,
   "metadata": {
    "id": "oCc6YxJXvCjk"
   },
   "outputs": [],
   "source": [
    "# your code with comments"
   ]
  },
  {
   "cell_type": "markdown",
   "metadata": {
    "id": "73EfoeObvCjk"
   },
   "source": [
    "## Step 6 (Main Step) - Break repeating-key XOR\n",
    "\n",
    "> There's a file [here](data/06.txt). It's been base64'd after being encrypted with repeating-key XOR.\n",
    ">\n",
    "> Decrypt it.\n",
    ">\n",
    "> Here's how:\n",
    ">\n",
    "> - Let KEYSIZE be the guessed length of the key; try values from 2 to (say) 40.\n",
    ">\n",
    "> - Write a function to compute the edit distance/Hamming distance between two strings. The Hamming distance is just the number of differing bits. The distance between:\n",
    "```\"this is a test\"```\n",
    "and\n",
    "```\"wokka wokka!!!\"```\n",
    "is 37. Make sure your code agrees before you proceed.\n",
    ">\n",
    "> - For each KEYSIZE, take the first KEYSIZE worth of bytes, and the second KEYSIZE worth of bytes, and find the edit distance between them. Normalize this result by dividing by KEYSIZE.\n",
    ">\n",
    "> - The KEYSIZE with the smallest normalized edit distance is probably the key. You could proceed perhaps with the smallest 2-3 KEYSIZE values. Or take 4 KEYSIZE blocks instead of 2 and average the distances.\n",
    ">\n",
    "> - Now that you probably know the KEYSIZE: break the ciphertext into blocks of KEYSIZE length.\n",
    ">\n",
    "> - Now transpose the blocks: make a block that is the first byte of every block, and a block that is the second byte of every block, and so on.\n",
    ">\n",
    "> - Solve each block as if it was single-character XOR. You already have code to do this.\n",
    "> For each block, the single-byte XOR key that produces the best looking histogram is the repeating-key XOR key byte for that block. Put them together and you have the key."
   ]
  },
  {
   "cell_type": "markdown",
   "metadata": {
    "id": "JdSyX_dZvCjl"
   },
   "source": [
    "#### Description\n",
    "*A brief description of your approach. Don't just put the code. First explain what you did and WHY you did it!*\n",
    "\n",
    "<p> (your description)<br>\n",
    "...\n",
    "</p>"
   ]
  },
  {
   "cell_type": "code",
   "execution_count": null,
   "metadata": {
    "id": "pi2_73UxvCjl"
   },
   "outputs": [],
   "source": [
    "# your code with comments"
   ]
  }
 ],
 "metadata": {
  "colab": {
   "provenance": []
  },
  "kernelspec": {
   "display_name": "Python 3",
   "language": "python",
   "name": "python3"
  },
  "language_info": {
   "codemirror_mode": {
    "name": "ipython",
    "version": 3
   },
   "file_extension": ".py",
   "mimetype": "text/x-python",
   "name": "python",
   "nbconvert_exporter": "python",
   "pygments_lexer": "ipython3",
   "version": "3.13.1"
  }
 },
 "nbformat": 4,
 "nbformat_minor": 0
}
